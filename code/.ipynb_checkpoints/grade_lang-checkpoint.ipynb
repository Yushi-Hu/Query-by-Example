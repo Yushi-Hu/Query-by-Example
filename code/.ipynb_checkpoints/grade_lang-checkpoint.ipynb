{
 "cells": [
  {
   "cell_type": "code",
   "execution_count": 14,
   "metadata": {},
   "outputs": [],
   "source": [
    "import os\n",
    "import xml.etree.ElementTree as ET\n",
    "import shutil\n",
    "import numpy as np"
   ]
  },
  {
   "cell_type": "code",
   "execution_count": 3,
   "metadata": {},
   "outputs": [],
   "source": [
    "groundtruth_dir='/data/QbE-Final/scoring_quesst2015_lang_noise'\n",
    "lang = 'Chinese'\n",
    "result_dir = '/data/QbE-Final/ckpts/phrase-mean/allmspanspec_fbank_pitch_phones/2015results/'"
   ]
  },
  {
   "cell_type": "code",
   "execution_count": 19,
   "metadata": {},
   "outputs": [],
   "source": [
    "def default_cos_to_score(s):\n",
    "    return 10 * (1.5 - s) - 7.5"
   ]
  },
  {
   "cell_type": "code",
   "execution_count": 46,
   "metadata": {},
   "outputs": [],
   "source": [
    "def grade_lang(result, truth, lang, thres=0, qtype=None, score_function=None):\n",
    "    \n",
    "    working_dir = os.path.join(result,lang)\n",
    "    if qtype is not None:\n",
    "        working_dir = os.path.join(result,f\"{lang}_{qtype}\")\n",
    "    \n",
    "    \n",
    "    os.makedirs(working_dir, exist_ok=True)\n",
    "    output_fn = os.path.join(working_dir,  f\"AWESystem.stdlist.xml\")\n",
    "    \n",
    "    groundtruth_lang = os.path.join(truth, f\"groundtruth_quesst2015_dev_{lang}\")\n",
    "    \n",
    "    if qtype is not None:\n",
    "        groundtruth_lang = os.path.join(truth, f\"groundtruth_quesst2015_dev_{lang}_{qtype}\")\n",
    "    \n",
    "    dist_dict = np.load(os.path.join(result, 'dev_dist_dict.npy'), allow_pickle=True).item()\n",
    "    \n",
    "    ecf_fn = os.path.join(groundtruth_lang, f\"quesst2015_{lang}.ecf.xml\")\n",
    "    tlist_fn = os.path.join(groundtruth_lang,f\"quesst2015_{lang}_dev.tlist.xml\")\n",
    "    \n",
    "    # get query needed\n",
    "    tlist_tree = ET.parse(tlist_fn)\n",
    "    root = tlist_tree.getroot()\n",
    "    query_set = set()\n",
    "    for child in root:\n",
    "        child = child.attrib\n",
    "        query_set.add(child['termid'])\n",
    "    \n",
    "    # get search and dur\n",
    "    ecf_tree = ET.parse(ecf_fn)\n",
    "    root = ecf_tree.getroot()\n",
    "    audio_time_dict = {}\n",
    "    for child in root:\n",
    "        child = child.attrib\n",
    "        fn = child['audio_filename']\n",
    "        _, fn = os.path.split(fn)\n",
    "        fn = os.path.splitext(fn)[0]\n",
    "        dur = child['dur']\n",
    "        audio_time_dict[fn] = dur\n",
    "    \n",
    "    # for grading script\n",
    "    result_heading = \"\"\"<?xml version=\"1.0\" encoding=\"UTF-8\"?>\n",
    "    <stdlist termlist_filename=\"Query.tlist.xml\" indexing_time=\"1.00\" language=\"mul\" index_size=\"1\" system_id=\"AWE system\">\n",
    "    \"\"\"\n",
    "    result_ending = \"</stdlist>\\n\"\n",
    "\n",
    "    term_heading = \"\"\"<detected_termlist termid=\"{}\" term_search_time=\"2.00\" oov_term_count=\"1\">\n",
    "    \"\"\"\n",
    "    term_ending = \"</detected_termlist>\\n\"\n",
    "    one_query = \"\"\"<term file=\"{}\" channel=\"1\" tbeg=\"0\" dur=\"{}\" score=\"{}\" decision=\"{}\"/>\n",
    "    \"\"\"\n",
    "\n",
    "    with open(output_fn, 'w') as f:\n",
    "        f.write(result_heading)\n",
    "\n",
    "        for q in query_set:\n",
    "            f.write(term_heading.format(q))\n",
    "\n",
    "            for s in audio_time_dict.keys():\n",
    "\n",
    "                if (q, s) in dist_dict:\n",
    "                    score = dist_dict[(q, s)]\n",
    "\n",
    "                    result = 'NO'\n",
    "\n",
    "                    if score_function is not None:\n",
    "                        score = score_function(score)\n",
    "\n",
    "                    if score > thres:\n",
    "                        result = 'YES'\n",
    "\n",
    "                    f.write(one_query.format(s, audio_time_dict[s], score, result))\n",
    "\n",
    "            f.write(term_ending)\n",
    "        f.write(result_ending)\n",
    "    \n",
    "    os.chdir(f\"../scoring_quesst2015\")\n",
    "    os.system(f\"./score-TWV-Cnxe.sh {working_dir} {groundtruth_lang} -7.5\")"
   ]
  },
  {
   "cell_type": "code",
   "execution_count": 23,
   "metadata": {},
   "outputs": [],
   "source": [
    "grade_lang(\"../ckpts/phrase-mean/allmspanspec_fbank_pitch_phones/2015results/\",\n",
    "           groundtruth_dir, 'Chinese', thres=0, score_function=default_cos_to_score)"
   ]
  },
  {
   "cell_type": "code",
   "execution_count": 24,
   "metadata": {},
   "outputs": [],
   "source": [
    "grade_lang(\"../ckpts/phrase-mean/allmspanspec_fbank_pitch_phones/2015results/\",\n",
    "           groundtruth_dir, 'Albanian', thres=0, score_function=default_cos_to_score)"
   ]
  },
  {
   "cell_type": "code",
   "execution_count": 25,
   "metadata": {},
   "outputs": [],
   "source": [
    "grade_lang(\"../ckpts/phrase-mean/allmspanspec_fbank_pitch_phones/2015results/\",\n",
    "           groundtruth_dir, 'Czech', thres=0, score_function=default_cos_to_score)"
   ]
  },
  {
   "cell_type": "code",
   "execution_count": 26,
   "metadata": {},
   "outputs": [],
   "source": [
    "grade_lang(\"../ckpts/phrase-mean/allmspanspec_fbank_pitch_phones/2015results/\",\n",
    "           groundtruth_dir, 'Portuguese', thres=0, score_function=default_cos_to_score)"
   ]
  },
  {
   "cell_type": "code",
   "execution_count": 28,
   "metadata": {},
   "outputs": [],
   "source": [
    "def gen_gold_dict(gold_fn):\n",
    "    gold_set = set()\n",
    "    with open(gold_fn, 'r') as f:\n",
    "        lines = f.read().splitlines()\n",
    "        for line in lines:\n",
    "            if line[:6] == 'LEXEME':\n",
    "                line = line.split(' ')\n",
    "                this_s = line[1]\n",
    "                this_q = line[5]\n",
    "\n",
    "                if 'quesst2015' in this_q:\n",
    "                    gold_set.add((this_q, this_s))\n",
    "    return gold_set"
   ]
  },
  {
   "cell_type": "code",
   "execution_count": 40,
   "metadata": {},
   "outputs": [],
   "source": [
    "def gen_groundtruth(truth, lang, query_type):\n",
    "    groundtruth_lang = os.path.join(truth, f\"groundtruth_quesst2015_dev_{lang}\")\n",
    "    ecf_fn = os.path.join(groundtruth_lang, f\"quesst2015_{lang}.ecf.xml\")\n",
    "    tlist_fn = os.path.join(groundtruth_lang,f\"quesst2015_{lang}_dev.tlist.xml\")\n",
    "    \n",
    "    new_working_dir = os.path.join(truth, f\"groundtruth_quesst2015_dev_{lang}_{query_type}\" )\n",
    "    os.makedirs(new_working_dir, exist_ok=True)\n",
    "    shutil.copyfile(ecf_fn, os.path.join(new_working_dir, f\"quesst2015_{lang}.ecf.xml\"))\n",
    "    shutil.copyfile(tlist_fn, os.path.join(new_working_dir, f\"quesst2015_{lang}_dev.tlist.xml\"))\n",
    "    \n",
    "    query_gold_fn = f\"/data/QbE-Final/scoring_quesst2015/groundtruth_quesst2015_dev_{query_type}/quesst2015_dev_{query_type}.rttm\"\n",
    "    lang_gold_fn = os.path.join(groundtruth_lang, f\"quesst2015_{lang}_dev.rttm\" )\n",
    "    gold_set = gen_gold_dict(query_gold_fn)\n",
    "    \n",
    "    new_gold_fn = os.path.join(new_working_dir, f\"quesst2015_{lang}_dev.rttm\" )\n",
    "    \n",
    "    new_lines = []\n",
    "    with open(lang_gold_fn, 'r') as f:\n",
    "        lines = f.read().splitlines()\n",
    "        for line in lines:\n",
    "            if line[:6] == 'LEXEME':\n",
    "                line = line.split(' ')\n",
    "                this_s = line[1]\n",
    "                this_q = line[5]\n",
    "\n",
    "                if (this_q, this_s) not in gold_set:\n",
    "                    line[1] = this_s\n",
    "                    line[5] = 'NO_KEYWORD'\n",
    "                    \n",
    "                new_lines.append(' '.join(line))\n",
    "            else:\n",
    "                new_lines.append(line)\n",
    "    \n",
    "    last_line=\"\"\n",
    "    with open(new_gold_fn, 'w') as f_new:\n",
    "        for line in new_lines:\n",
    "            if line != last_line:\n",
    "                last_line = line\n",
    "                f_new.write(line + '\\n')"
   ]
  },
  {
   "cell_type": "code",
   "execution_count": 41,
   "metadata": {},
   "outputs": [],
   "source": [
    "gen_groundtruth(groundtruth_dir, 'Chinese', 'T1')"
   ]
  },
  {
   "cell_type": "code",
   "execution_count": 42,
   "metadata": {},
   "outputs": [],
   "source": [
    "langs = ['Chinese', 'Albanian', 'Czech', 'Portuguese']\n",
    "types = ['T1', 'T2', 'T3']\n",
    "\n",
    "for lang in langs:\n",
    "    for t in types:\n",
    "        gen_groundtruth(groundtruth_dir, lang, t)"
   ]
  },
  {
   "cell_type": "code",
   "execution_count": 47,
   "metadata": {},
   "outputs": [],
   "source": [
    "for lang in langs:\n",
    "    for t in types:\n",
    "        grade_lang(\"../ckpts/phrase-mean/allmspanspec_fbank_pitch_phones/2015results/\",\n",
    "           groundtruth_dir, lang, qtype=t, thres=0, score_function=default_cos_to_score)"
   ]
  },
  {
   "cell_type": "code",
   "execution_count": null,
   "metadata": {},
   "outputs": [],
   "source": []
  }
 ],
 "metadata": {
  "kernelspec": {
   "display_name": "Python 3",
   "language": "python",
   "name": "python3"
  },
  "language_info": {
   "codemirror_mode": {
    "name": "ipython",
    "version": 3
   },
   "file_extension": ".py",
   "mimetype": "text/x-python",
   "name": "python",
   "nbconvert_exporter": "python",
   "pygments_lexer": "ipython3",
   "version": "3.7.7"
  }
 },
 "nbformat": 4,
 "nbformat_minor": 4
}
